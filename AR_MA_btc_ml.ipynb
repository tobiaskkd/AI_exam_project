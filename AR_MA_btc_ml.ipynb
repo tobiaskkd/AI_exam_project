{
 "cells": [
  {
   "cell_type": "code",
   "execution_count": 2,
   "metadata": {},
   "outputs": [],
   "source": [
    "import pandas as pd \n",
    "import numpy as np \n",
    "import matplotlib.pyplot as plt\n",
    "from datetime import datetime\n",
    "import math\n",
    "from sklearn.metrics import mean_squared_error\n",
    "from itertools import product\n",
    "import seaborn; seaborn.set()\n",
    "%matplotlib inline\n",
    "\n",
    "import json\n",
    "import requests"
   ]
  },
  {
   "cell_type": "code",
   "execution_count": 168,
   "metadata": {},
   "outputs": [],
   "source": [
    "endpoint = 'https://min-api.cryptocompare.com/data/histoday'\n",
    "res = requests.get(endpoint + '?fsym=BTC&tsym=USD&limit=2000')\n",
    "hist = pd.DataFrame(json.loads(res.content)['Data'])\n",
    "hist = hist.set_index('time')\n",
    "hist.index = pd.to_datetime(hist.index, unit='s')\n",
    "\n",
    "# Adding weighted price\n",
    "\n",
    "hist['Weighted_Price'] = (hist.close + hist.high + hist.low + hist.open)/4"
   ]
  },
  {
   "cell_type": "code",
   "execution_count": 169,
   "metadata": {},
   "outputs": [],
   "source": [
    "#hist = hist['2016-10-01':'2018-01-08']"
   ]
  },
  {
   "cell_type": "code",
   "execution_count": 170,
   "metadata": {},
   "outputs": [
    {
     "data": {
      "text/html": [
       "<div>\n",
       "<style scoped>\n",
       "    .dataframe tbody tr th:only-of-type {\n",
       "        vertical-align: middle;\n",
       "    }\n",
       "\n",
       "    .dataframe tbody tr th {\n",
       "        vertical-align: top;\n",
       "    }\n",
       "\n",
       "    .dataframe thead th {\n",
       "        text-align: right;\n",
       "    }\n",
       "</style>\n",
       "<table border=\"1\" class=\"dataframe\">\n",
       "  <thead>\n",
       "    <tr style=\"text-align: right;\">\n",
       "      <th></th>\n",
       "      <th>close</th>\n",
       "      <th>high</th>\n",
       "      <th>low</th>\n",
       "      <th>open</th>\n",
       "      <th>volumefrom</th>\n",
       "      <th>volumeto</th>\n",
       "      <th>Weighted_Price</th>\n",
       "    </tr>\n",
       "    <tr>\n",
       "      <th>time</th>\n",
       "      <th></th>\n",
       "      <th></th>\n",
       "      <th></th>\n",
       "      <th></th>\n",
       "      <th></th>\n",
       "      <th></th>\n",
       "      <th></th>\n",
       "    </tr>\n",
       "  </thead>\n",
       "  <tbody>\n",
       "    <tr>\n",
       "      <th>2013-11-24</th>\n",
       "      <td>795.01</td>\n",
       "      <td>854.99</td>\n",
       "      <td>745.21</td>\n",
       "      <td>832.50</td>\n",
       "      <td>25948.64</td>\n",
       "      <td>20776035.16</td>\n",
       "      <td>806.9275</td>\n",
       "    </tr>\n",
       "    <tr>\n",
       "      <th>2013-11-25</th>\n",
       "      <td>829.99</td>\n",
       "      <td>849.99</td>\n",
       "      <td>758.95</td>\n",
       "      <td>795.01</td>\n",
       "      <td>26381.41</td>\n",
       "      <td>21438670.96</td>\n",
       "      <td>808.4850</td>\n",
       "    </tr>\n",
       "    <tr>\n",
       "      <th>2013-11-26</th>\n",
       "      <td>969.96</td>\n",
       "      <td>974.96</td>\n",
       "      <td>825.08</td>\n",
       "      <td>829.99</td>\n",
       "      <td>31613.86</td>\n",
       "      <td>28285852.13</td>\n",
       "      <td>899.9975</td>\n",
       "    </tr>\n",
       "    <tr>\n",
       "      <th>2013-11-27</th>\n",
       "      <td>1079.89</td>\n",
       "      <td>1094.78</td>\n",
       "      <td>914.27</td>\n",
       "      <td>969.96</td>\n",
       "      <td>37859.08</td>\n",
       "      <td>37868643.04</td>\n",
       "      <td>1014.7250</td>\n",
       "    </tr>\n",
       "    <tr>\n",
       "      <th>2013-11-28</th>\n",
       "      <td>1101.38</td>\n",
       "      <td>1224.48</td>\n",
       "      <td>1032.06</td>\n",
       "      <td>1079.89</td>\n",
       "      <td>37396.83</td>\n",
       "      <td>42912383.44</td>\n",
       "      <td>1109.4525</td>\n",
       "    </tr>\n",
       "  </tbody>\n",
       "</table>\n",
       "</div>"
      ],
      "text/plain": [
       "              close     high      low     open  volumefrom     volumeto  \\\n",
       "time                                                                      \n",
       "2013-11-24   795.01   854.99   745.21   832.50    25948.64  20776035.16   \n",
       "2013-11-25   829.99   849.99   758.95   795.01    26381.41  21438670.96   \n",
       "2013-11-26   969.96   974.96   825.08   829.99    31613.86  28285852.13   \n",
       "2013-11-27  1079.89  1094.78   914.27   969.96    37859.08  37868643.04   \n",
       "2013-11-28  1101.38  1224.48  1032.06  1079.89    37396.83  42912383.44   \n",
       "\n",
       "            Weighted_Price  \n",
       "time                        \n",
       "2013-11-24        806.9275  \n",
       "2013-11-25        808.4850  \n",
       "2013-11-26        899.9975  \n",
       "2013-11-27       1014.7250  \n",
       "2013-11-28       1109.4525  "
      ]
     },
     "execution_count": 170,
     "metadata": {},
     "output_type": "execute_result"
    }
   ],
   "source": [
    "hist.head()"
   ]
  },
  {
   "cell_type": "code",
   "execution_count": 171,
   "metadata": {},
   "outputs": [],
   "source": [
    "def train_test_split(df, test_size=0.1):\n",
    "    split_row = len(df) - int(test_size * len(df))\n",
    "    train_data = df.iloc[:split_row]\n",
    "    test_data = df.iloc[split_row:]\n",
    "    return train_data, test_data"
   ]
  },
  {
   "cell_type": "code",
   "execution_count": 172,
   "metadata": {},
   "outputs": [],
   "source": [
    "train, test = train_test_split(hist, test_size=0.1)"
   ]
  },
  {
   "cell_type": "code",
   "execution_count": 173,
   "metadata": {},
   "outputs": [],
   "source": [
    "#train=hist[1475280000:1506729600] #from 01-10-2016 - 30-09-17\n",
    "#test=hist[1506816000:1533686400]"
   ]
  },
  {
   "cell_type": "code",
   "execution_count": 174,
   "metadata": {},
   "outputs": [],
   "source": [
    "#train=hist['2016-10-01':'2017-09-30'] #from 01-10-2016 - 30-09-17\n",
    "#test=hist['2017-10-01':] "
   ]
  },
  {
   "cell_type": "code",
   "execution_count": 175,
   "metadata": {},
   "outputs": [
    {
     "data": {
      "text/html": [
       "<div>\n",
       "<style scoped>\n",
       "    .dataframe tbody tr th:only-of-type {\n",
       "        vertical-align: middle;\n",
       "    }\n",
       "\n",
       "    .dataframe tbody tr th {\n",
       "        vertical-align: top;\n",
       "    }\n",
       "\n",
       "    .dataframe thead th {\n",
       "        text-align: right;\n",
       "    }\n",
       "</style>\n",
       "<table border=\"1\" class=\"dataframe\">\n",
       "  <thead>\n",
       "    <tr style=\"text-align: right;\">\n",
       "      <th></th>\n",
       "      <th>close</th>\n",
       "      <th>high</th>\n",
       "      <th>low</th>\n",
       "      <th>open</th>\n",
       "      <th>volumefrom</th>\n",
       "      <th>volumeto</th>\n",
       "      <th>Weighted_Price</th>\n",
       "    </tr>\n",
       "    <tr>\n",
       "      <th>time</th>\n",
       "      <th></th>\n",
       "      <th></th>\n",
       "      <th></th>\n",
       "      <th></th>\n",
       "      <th></th>\n",
       "      <th></th>\n",
       "      <th></th>\n",
       "    </tr>\n",
       "  </thead>\n",
       "  <tbody>\n",
       "    <tr>\n",
       "      <th>2013-11-24</th>\n",
       "      <td>795.01</td>\n",
       "      <td>854.99</td>\n",
       "      <td>745.21</td>\n",
       "      <td>832.50</td>\n",
       "      <td>25948.64</td>\n",
       "      <td>20776035.16</td>\n",
       "      <td>806.9275</td>\n",
       "    </tr>\n",
       "    <tr>\n",
       "      <th>2013-11-25</th>\n",
       "      <td>829.99</td>\n",
       "      <td>849.99</td>\n",
       "      <td>758.95</td>\n",
       "      <td>795.01</td>\n",
       "      <td>26381.41</td>\n",
       "      <td>21438670.96</td>\n",
       "      <td>808.4850</td>\n",
       "    </tr>\n",
       "    <tr>\n",
       "      <th>2013-11-26</th>\n",
       "      <td>969.96</td>\n",
       "      <td>974.96</td>\n",
       "      <td>825.08</td>\n",
       "      <td>829.99</td>\n",
       "      <td>31613.86</td>\n",
       "      <td>28285852.13</td>\n",
       "      <td>899.9975</td>\n",
       "    </tr>\n",
       "    <tr>\n",
       "      <th>2013-11-27</th>\n",
       "      <td>1079.89</td>\n",
       "      <td>1094.78</td>\n",
       "      <td>914.27</td>\n",
       "      <td>969.96</td>\n",
       "      <td>37859.08</td>\n",
       "      <td>37868643.04</td>\n",
       "      <td>1014.7250</td>\n",
       "    </tr>\n",
       "    <tr>\n",
       "      <th>2013-11-28</th>\n",
       "      <td>1101.38</td>\n",
       "      <td>1224.48</td>\n",
       "      <td>1032.06</td>\n",
       "      <td>1079.89</td>\n",
       "      <td>37396.83</td>\n",
       "      <td>42912383.44</td>\n",
       "      <td>1109.4525</td>\n",
       "    </tr>\n",
       "  </tbody>\n",
       "</table>\n",
       "</div>"
      ],
      "text/plain": [
       "              close     high      low     open  volumefrom     volumeto  \\\n",
       "time                                                                      \n",
       "2013-11-24   795.01   854.99   745.21   832.50    25948.64  20776035.16   \n",
       "2013-11-25   829.99   849.99   758.95   795.01    26381.41  21438670.96   \n",
       "2013-11-26   969.96   974.96   825.08   829.99    31613.86  28285852.13   \n",
       "2013-11-27  1079.89  1094.78   914.27   969.96    37859.08  37868643.04   \n",
       "2013-11-28  1101.38  1224.48  1032.06  1079.89    37396.83  42912383.44   \n",
       "\n",
       "            Weighted_Price  \n",
       "time                        \n",
       "2013-11-24        806.9275  \n",
       "2013-11-25        808.4850  \n",
       "2013-11-26        899.9975  \n",
       "2013-11-27       1014.7250  \n",
       "2013-11-28       1109.4525  "
      ]
     },
     "execution_count": 175,
     "metadata": {},
     "output_type": "execute_result"
    }
   ],
   "source": [
    "train.head()"
   ]
  },
  {
   "cell_type": "code",
   "execution_count": 176,
   "metadata": {},
   "outputs": [
    {
     "data": {
      "text/html": [
       "<div>\n",
       "<style scoped>\n",
       "    .dataframe tbody tr th:only-of-type {\n",
       "        vertical-align: middle;\n",
       "    }\n",
       "\n",
       "    .dataframe tbody tr th {\n",
       "        vertical-align: top;\n",
       "    }\n",
       "\n",
       "    .dataframe thead th {\n",
       "        text-align: right;\n",
       "    }\n",
       "</style>\n",
       "<table border=\"1\" class=\"dataframe\">\n",
       "  <thead>\n",
       "    <tr style=\"text-align: right;\">\n",
       "      <th></th>\n",
       "      <th>close</th>\n",
       "      <th>high</th>\n",
       "      <th>low</th>\n",
       "      <th>open</th>\n",
       "      <th>volumefrom</th>\n",
       "      <th>volumeto</th>\n",
       "      <th>Weighted_Price</th>\n",
       "    </tr>\n",
       "    <tr>\n",
       "      <th>time</th>\n",
       "      <th></th>\n",
       "      <th></th>\n",
       "      <th></th>\n",
       "      <th></th>\n",
       "      <th></th>\n",
       "      <th></th>\n",
       "      <th></th>\n",
       "    </tr>\n",
       "  </thead>\n",
       "  <tbody>\n",
       "    <tr>\n",
       "      <th>2018-10-30</th>\n",
       "      <td>6309.11</td>\n",
       "      <td>6340.68</td>\n",
       "      <td>6286.30</td>\n",
       "      <td>6314.38</td>\n",
       "      <td>42701.22</td>\n",
       "      <td>2.695922e+08</td>\n",
       "      <td>6312.6175</td>\n",
       "    </tr>\n",
       "    <tr>\n",
       "      <th>2018-10-31</th>\n",
       "      <td>6342.61</td>\n",
       "      <td>6391.25</td>\n",
       "      <td>6241.49</td>\n",
       "      <td>6309.11</td>\n",
       "      <td>38823.41</td>\n",
       "      <td>2.453572e+08</td>\n",
       "      <td>6321.1150</td>\n",
       "    </tr>\n",
       "    <tr>\n",
       "      <th>2018-11-01</th>\n",
       "      <td>6381.30</td>\n",
       "      <td>6402.59</td>\n",
       "      <td>6322.60</td>\n",
       "      <td>6342.81</td>\n",
       "      <td>31397.71</td>\n",
       "      <td>1.998612e+08</td>\n",
       "      <td>6362.3250</td>\n",
       "    </tr>\n",
       "    <tr>\n",
       "      <th>2018-11-02</th>\n",
       "      <td>6394.66</td>\n",
       "      <td>6420.93</td>\n",
       "      <td>6371.57</td>\n",
       "      <td>6381.30</td>\n",
       "      <td>27987.60</td>\n",
       "      <td>1.793856e+08</td>\n",
       "      <td>6392.1150</td>\n",
       "    </tr>\n",
       "    <tr>\n",
       "      <th>2018-11-03</th>\n",
       "      <td>6376.32</td>\n",
       "      <td>6398.09</td>\n",
       "      <td>6336.96</td>\n",
       "      <td>6394.65</td>\n",
       "      <td>28808.38</td>\n",
       "      <td>1.835653e+08</td>\n",
       "      <td>6376.5050</td>\n",
       "    </tr>\n",
       "  </tbody>\n",
       "</table>\n",
       "</div>"
      ],
      "text/plain": [
       "              close     high      low     open  volumefrom      volumeto  \\\n",
       "time                                                                       \n",
       "2018-10-30  6309.11  6340.68  6286.30  6314.38    42701.22  2.695922e+08   \n",
       "2018-10-31  6342.61  6391.25  6241.49  6309.11    38823.41  2.453572e+08   \n",
       "2018-11-01  6381.30  6402.59  6322.60  6342.81    31397.71  1.998612e+08   \n",
       "2018-11-02  6394.66  6420.93  6371.57  6381.30    27987.60  1.793856e+08   \n",
       "2018-11-03  6376.32  6398.09  6336.96  6394.65    28808.38  1.835653e+08   \n",
       "\n",
       "            Weighted_Price  \n",
       "time                        \n",
       "2018-10-30       6312.6175  \n",
       "2018-10-31       6321.1150  \n",
       "2018-11-01       6362.3250  \n",
       "2018-11-02       6392.1150  \n",
       "2018-11-03       6376.5050  "
      ]
     },
     "execution_count": 176,
     "metadata": {},
     "output_type": "execute_result"
    }
   ],
   "source": [
    "test.head()"
   ]
  },
  {
   "cell_type": "code",
   "execution_count": 177,
   "metadata": {},
   "outputs": [
    {
     "name": "stdout",
     "output_type": "stream",
     "text": [
      "(1801, 7)\n",
      "(200, 7)\n"
     ]
    }
   ],
   "source": [
    "print(train.shape)\n",
    "print(test.shape)"
   ]
  },
  {
   "cell_type": "code",
   "execution_count": 178,
   "metadata": {},
   "outputs": [
    {
     "data": {
      "text/html": [
       "<div>\n",
       "<style scoped>\n",
       "    .dataframe tbody tr th:only-of-type {\n",
       "        vertical-align: middle;\n",
       "    }\n",
       "\n",
       "    .dataframe tbody tr th {\n",
       "        vertical-align: top;\n",
       "    }\n",
       "\n",
       "    .dataframe thead th {\n",
       "        text-align: right;\n",
       "    }\n",
       "</style>\n",
       "<table border=\"1\" class=\"dataframe\">\n",
       "  <thead>\n",
       "    <tr style=\"text-align: right;\">\n",
       "      <th></th>\n",
       "      <th>close</th>\n",
       "      <th>high</th>\n",
       "      <th>low</th>\n",
       "      <th>open</th>\n",
       "      <th>volumefrom</th>\n",
       "      <th>volumeto</th>\n",
       "      <th>Weighted_Price</th>\n",
       "    </tr>\n",
       "  </thead>\n",
       "  <tbody>\n",
       "    <tr>\n",
       "      <th>count</th>\n",
       "      <td>1801.000000</td>\n",
       "      <td>1801.000000</td>\n",
       "      <td>1801.000000</td>\n",
       "      <td>1801.000000</td>\n",
       "      <td>1801.000000</td>\n",
       "      <td>1.801000e+03</td>\n",
       "      <td>1801.000000</td>\n",
       "    </tr>\n",
       "    <tr>\n",
       "      <th>mean</th>\n",
       "      <td>2470.155875</td>\n",
       "      <td>2551.024947</td>\n",
       "      <td>2370.620272</td>\n",
       "      <td>2467.121899</td>\n",
       "      <td>65276.309489</td>\n",
       "      <td>2.449847e+08</td>\n",
       "      <td>2464.730748</td>\n",
       "    </tr>\n",
       "    <tr>\n",
       "      <th>std</th>\n",
       "      <td>3526.109140</td>\n",
       "      <td>3664.672429</td>\n",
       "      <td>3348.707837</td>\n",
       "      <td>3525.182048</td>\n",
       "      <td>57444.720884</td>\n",
       "      <td>5.151137e+08</td>\n",
       "      <td>3513.891181</td>\n",
       "    </tr>\n",
       "    <tr>\n",
       "      <th>min</th>\n",
       "      <td>111.560000</td>\n",
       "      <td>160.150000</td>\n",
       "      <td>91.660000</td>\n",
       "      <td>111.560000</td>\n",
       "      <td>404.380000</td>\n",
       "      <td>2.101127e+05</td>\n",
       "      <td>118.822500</td>\n",
       "    </tr>\n",
       "    <tr>\n",
       "      <th>25%</th>\n",
       "      <td>384.690000</td>\n",
       "      <td>395.730000</td>\n",
       "      <td>374.260000</td>\n",
       "      <td>384.690000</td>\n",
       "      <td>26952.730000</td>\n",
       "      <td>1.120408e+07</td>\n",
       "      <td>386.670000</td>\n",
       "    </tr>\n",
       "    <tr>\n",
       "      <th>50%</th>\n",
       "      <td>625.570000</td>\n",
       "      <td>637.600000</td>\n",
       "      <td>614.880000</td>\n",
       "      <td>625.570000</td>\n",
       "      <td>52093.800000</td>\n",
       "      <td>2.624220e+07</td>\n",
       "      <td>624.165000</td>\n",
       "    </tr>\n",
       "    <tr>\n",
       "      <th>75%</th>\n",
       "      <td>3232.030000</td>\n",
       "      <td>3295.070000</td>\n",
       "      <td>2875.910000</td>\n",
       "      <td>2973.450000</td>\n",
       "      <td>87651.140000</td>\n",
       "      <td>2.597085e+08</td>\n",
       "      <td>3090.302500</td>\n",
       "    </tr>\n",
       "    <tr>\n",
       "      <th>max</th>\n",
       "      <td>19345.490000</td>\n",
       "      <td>19870.620000</td>\n",
       "      <td>18750.910000</td>\n",
       "      <td>19346.600000</td>\n",
       "      <td>517733.910000</td>\n",
       "      <td>6.245732e+09</td>\n",
       "      <td>19258.460000</td>\n",
       "    </tr>\n",
       "  </tbody>\n",
       "</table>\n",
       "</div>"
      ],
      "text/plain": [
       "              close          high           low          open     volumefrom  \\\n",
       "count   1801.000000   1801.000000   1801.000000   1801.000000    1801.000000   \n",
       "mean    2470.155875   2551.024947   2370.620272   2467.121899   65276.309489   \n",
       "std     3526.109140   3664.672429   3348.707837   3525.182048   57444.720884   \n",
       "min      111.560000    160.150000     91.660000    111.560000     404.380000   \n",
       "25%      384.690000    395.730000    374.260000    384.690000   26952.730000   \n",
       "50%      625.570000    637.600000    614.880000    625.570000   52093.800000   \n",
       "75%     3232.030000   3295.070000   2875.910000   2973.450000   87651.140000   \n",
       "max    19345.490000  19870.620000  18750.910000  19346.600000  517733.910000   \n",
       "\n",
       "           volumeto  Weighted_Price  \n",
       "count  1.801000e+03     1801.000000  \n",
       "mean   2.449847e+08     2464.730748  \n",
       "std    5.151137e+08     3513.891181  \n",
       "min    2.101127e+05      118.822500  \n",
       "25%    1.120408e+07      386.670000  \n",
       "50%    2.624220e+07      624.165000  \n",
       "75%    2.597085e+08     3090.302500  \n",
       "max    6.245732e+09    19258.460000  "
      ]
     },
     "execution_count": 178,
     "metadata": {},
     "output_type": "execute_result"
    }
   ],
   "source": [
    "train.describe()"
   ]
  },
  {
   "cell_type": "code",
   "execution_count": 179,
   "metadata": {},
   "outputs": [
    {
     "data": {
      "text/plain": [
       "close             False\n",
       "high              False\n",
       "low               False\n",
       "open              False\n",
       "volumefrom        False\n",
       "volumeto          False\n",
       "Weighted_Price    False\n",
       "dtype: bool"
      ]
     },
     "execution_count": 179,
     "metadata": {},
     "output_type": "execute_result"
    }
   ],
   "source": [
    "train.isnull().any()"
   ]
  },
  {
   "cell_type": "code",
   "execution_count": 180,
   "metadata": {},
   "outputs": [
    {
     "data": {
      "image/png": "[encoded data removed]",
      "text/plain": [
       "<Figure size 1152x576 with 1 Axes>"
      ]
     },
     "metadata": {
      "needs_background": "light"
     },
     "output_type": "display_data"
    }
   ],
   "source": [
    "y_hat_avg = test.copy()\n",
    "# SELECTING DATA FROM ROW NUMBERS\n",
    "y_hat_avg['moving_avg_forecast'] = train['Weighted_Price'].rolling(60).mean().iloc[-1]\n",
    "plt.figure(figsize=(16,8))\n",
    "plt.plot(train['Weighted_Price'], label='Train')\n",
    "plt.plot(test['Weighted_Price'], label='Test')\n",
    "plt.plot(y_hat_avg['moving_avg_forecast'], label='Moving Average Forecast')\n",
    "plt.legend(loc='best')\n",
    "plt.show()"
   ]
  },
  {
   "cell_type": "code",
   "execution_count": 181,
   "metadata": {},
   "outputs": [
    {
     "data": {
      "text/plain": [
       "<matplotlib.legend.Legend at 0x12b19f9b0>"
      ]
     },
     "execution_count": 181,
     "metadata": {},
     "output_type": "execute_result"
    },
    {
     "data": {
      "image/png": "[encoded data removed]",
      "text/plain": [
       "<Figure size 432x288 with 1 Axes>"
      ]
     },
     "metadata": {
      "needs_background": "light"
     },
     "output_type": "display_data"
    }
   ],
   "source": [
    "#Resampling at lower frequency\n",
    "#plot the average of price in the previous year and price at the end of the year\n",
    "weighted_Price = train['Weighted_Price']\n",
    "#print(weighted_Price)\n",
    "weighted_Price.plot(alpha=0.5, style='-')\n",
    "weighted_Price.resample('BA').mean().plot(style='*') # avg of previous year\n",
    "weighted_Price.asfreq('BA').plot(style='--') # value at the end of the year\n",
    "plt.yscale('log')\n",
    "plt.title(\"logarithmic scale\")\n",
    "plt.legend(['Weighted_Price', 'resample', 'asfreq'], \n",
    "           loc='upper left')\n",
    "# 'resample'-- average of the previous year\n",
    "# 'asfreq' -- value at the end of the year"
   ]
  },
  {
   "cell_type": "code",
   "execution_count": 182,
   "metadata": {},
   "outputs": [
    {
     "data": {
      "image/png": "[encoded data removed]",
      "text/plain": [
       "<Figure size 432x288 with 1 Axes>"
      ]
     },
     "metadata": {
      "needs_background": "light"
     },
     "output_type": "display_data"
    }
   ],
   "source": [
    "#The Exponentially Weighted Moving Average (EWMA) is a statistic for monitoring the process that averages the data in a way \n",
    "#that gives less and less weight to data\n",
    "rolling = pd.DataFrame.ewm(weighted_Price, com=200)\n",
    "# center of mass : \n",
    "data = pd.DataFrame({'input': weighted_Price, \n",
    "                     '200days rolling_mean': rolling.mean(), \n",
    "                     '200days rolling_std': rolling.std()}) # moving avg : smoothning the data due to fluationi\n",
    "\n",
    "ax = data.plot(style=['-', '--', ':'])\n",
    "ax.set_yscale('log')\n",
    "ax.set_title(\"EMA on log scale\")\n",
    "ax.lines[0].set_alpha(0.3)"
   ]
  },
  {
   "cell_type": "code",
   "execution_count": 183,
   "metadata": {},
   "outputs": [
    {
     "name": "stdout",
     "output_type": "stream",
     "text": [
      "[6312.6175 6321.115  6362.325  6392.115  6376.505  6423.42   6445.82\n",
      " 6452.155  6512.195  6489.4225 6408.6175 6392.6125 6386.2825 6392.385\n",
      " 6354.815  5981.5675 5613.955  5599.545  5570.655  5613.1275 5199.4675\n",
      " 4593.31   4509.995  4462.9125 4310.1925 4092.6825 3893.5575 3878.14\n",
      " 3774.9425 4077.0125 4281.32   4135.9725 4114.85   4184.505  3992.365\n",
      " 3918.3625 3841.74   3643.515  3432.465  3444.835  3552.2475 3530.565\n",
      " 3425.185  3453.115  3389.3175 3263.7    3227.32   3258.7775 3420.5675\n",
      " 3618.3725 3778.915  3953.135  4028.845  3963.405  4035.7275 4099.8875\n",
      " 3936.535  3838.575  3751.545  3807.5225 3880.86   3844.8125 3812.34\n",
      " 3815.8075 3914.26   3885.2875 3848.8625 3874.375  3983.1225 4071.805\n",
      " 4059.4125 4048.75   3858.1625 3670.8625 3659.225  3604.765  3637.1375\n",
      " 3659.9825 3645.245  3652.8725 3659.795  3705.115  3645.3525 3568.6675\n",
      " 3570.855  3587.3    3583.35   3582.0625 3608.6025 3569.715  3497.155\n",
      " 3426.015  3442.5775 3455.9875 3443.3175 3482.665  3474.2875 3445.2175\n",
      " 3435.6125 3416.03   3386.465  3533.445  3650.5275 3659.545  3648.3125\n",
      " 3612.91   3617.295  3595.42   3599.7025 3610.63   3650.6275 3799.3375\n",
      " 3932.56   3947.3775 3959.4775 3958.595  4068.3725 3974.4275 3818.43\n",
      " 3826.9875 3799.9925 3840.4875 3835.91   3827.885  3824.1425 3769.935\n",
      " 3804.8675 3876.21   3880.6375 3871.9075 3912.9175 3930.9025 3899.0425\n",
      " 3873.8475 3879.58   3876.78   3904.9475 3987.045  4006.59   3997.5375\n",
      " 4004.375  4035.3325 4022.375  3999.995  4002.47   3995.4925 3952.9075\n",
      " 3928.1225 3993.8275 4035.89   4075.485  4110.815  4114.76   4127.635\n",
      " 4577.5925 5012.7025 4940.425  4983.0825 5070.6675 5142.1825 5246.09\n",
      " 5237.1525 5289.8625 5174.6175 5044.0725 5086.8275 5116.0675 5091.87\n",
      " 5127.8175 5227.66   5269.195  5287.6175 5315.69   5303.32   5352.725\n",
      " 5482.9775 5504.415  5292.6375 5215.72   5234.7475 5259.51   5243.1825\n",
      " 5296.3675 5376.0125 5452.175  5657.695  5772.7425 5798.365  5752.5325\n",
      " 5836.8625 5900.9025 6088.5575 6277.0075 6825.4025 7125.9525 7446.29\n",
      " 7928.7125 8069.2925 8022.31   7375.0025]\n"
     ]
    }
   ],
   "source": [
    "#autoregression: \n",
    "from statsmodels.tsa.ar_model import AR\n",
    "from sklearn.metrics import mean_squared_error\n",
    "\n",
    "test = test['Weighted_Price'].values\n",
    "\n",
    "print(test)"
   ]
  },
  {
   "cell_type": "code",
   "execution_count": 184,
   "metadata": {},
   "outputs": [],
   "source": [
    "train_pr = train['Weighted_Price'].values"
   ]
  },
  {
   "cell_type": "code",
   "execution_count": 185,
   "metadata": {},
   "outputs": [
    {
     "name": "stdout",
     "output_type": "stream",
     "text": [
      "Lag: 25\n",
      "Coefficients: [ 6.25114175e+00  1.46861161e+00 -6.65423642e-01  2.37682327e-01\n",
      " -2.25056656e-02  2.50425573e-02 -2.26259402e-02 -7.79930430e-02\n",
      "  1.39904427e-01 -6.78578033e-02  6.80165322e-02 -1.47957323e-01\n",
      "  1.90448290e-02  2.16639284e-02 -5.02778854e-02  7.78420886e-02\n",
      " -7.87418426e-02  1.50985843e-01 -8.93171759e-02  9.98227236e-02\n",
      " -3.03155396e-03 -8.02117708e-02  4.02654866e-04 -6.31805537e-03\n",
      " -3.09615410e-02  3.23814449e-02]\n",
      "Test MSE 2543200.917\n"
     ]
    }
   ],
   "source": [
    "#train and fit autoregression\n",
    "model = AR(train_pr)\n",
    "model_fit = model.fit()\n",
    "\n",
    "print(\"Lag: %s\" % model_fit.k_ar)\n",
    "print(\"Coefficients: %s\" % model_fit.params)\n",
    "\n",
    "pred = model_fit.predict(start=len(train), end=len(train_pr)+len(test)-1, dynamic=False)\n",
    "mse = mean_squared_error(test, pred)\n",
    "print(\"Test MSE {0:.3f}\".format(mse))"
   ]
  },
  {
   "cell_type": "code",
   "execution_count": 186,
   "metadata": {},
   "outputs": [
    {
     "data": {
      "text/plain": [
       "<matplotlib.legend.Legend at 0x12b402470>"
      ]
     },
     "execution_count": 186,
     "metadata": {},
     "output_type": "execute_result"
    },
    {
     "data": {
      "image/png": "[encoded data removed]",
      "text/plain": [
       "<Figure size 432x288 with 1 Axes>"
      ]
     },
     "metadata": {
      "needs_background": "light"
     },
     "output_type": "display_data"
    }
   ],
   "source": [
    "plt.plot(test, label='true value')\n",
    "plt.plot(pred, color='red', label='prediction')\n",
    "plt.title(\"Autoregressive model\")\n",
    "plt.legend()"
   ]
  },
  {
   "cell_type": "code",
   "execution_count": 189,
   "metadata": {},
   "outputs": [
    {
     "name": "stdout",
     "output_type": "stream",
     "text": [
      "-1.182925491529332\n"
     ]
    },
    {
     "ename": "IndexError",
     "evalue": "only integers, slices (`:`), ellipsis (`...`), numpy.newaxis (`None`) and integer or boolean arrays are valid indices",
     "output_type": "error",
     "traceback": [
      "\u001b[0;31m---------------------------------------------------------------------------\u001b[0m",
      "\u001b[0;31mIndexError\u001b[0m                                Traceback (most recent call last)",
      "\u001b[0;32m<ipython-input-189-4943f3ee00d6>\u001b[0m in \u001b[0;36m<module>\u001b[0;34m\u001b[0m\n\u001b[1;32m      2\u001b[0m \u001b[0;34m\u001b[0m\u001b[0m\n\u001b[1;32m      3\u001b[0m \u001b[0mprint\u001b[0m\u001b[0;34m(\u001b[0m\u001b[0mr2_score\u001b[0m\u001b[0;34m(\u001b[0m\u001b[0mtest\u001b[0m\u001b[0;34m,\u001b[0m \u001b[0mpred\u001b[0m\u001b[0;34m)\u001b[0m\u001b[0;34m)\u001b[0m\u001b[0;34m\u001b[0m\u001b[0;34m\u001b[0m\u001b[0m\n\u001b[0;32m----> 4\u001b[0;31m \u001b[0mprint\u001b[0m\u001b[0;34m(\u001b[0m\u001b[0mtest\u001b[0m\u001b[0;34m[\u001b[0m\u001b[0;34m'Weighted_Price'\u001b[0m\u001b[0;34m]\u001b[0m\u001b[0;34m)\u001b[0m\u001b[0;34m\u001b[0m\u001b[0;34m\u001b[0m\u001b[0m\n\u001b[0m",
      "\u001b[0;31mIndexError\u001b[0m: only integers, slices (`:`), ellipsis (`...`), numpy.newaxis (`None`) and integer or boolean arrays are valid indices"
     ]
    }
   ],
   "source": [
    "from sklearn.metrics import r2_score\n",
    "\n",
    "print(r2_score(test, pred))"
   ]
  },
  {
   "cell_type": "code",
   "execution_count": 192,
   "metadata": {},
   "outputs": [],
   "source": [
    "np.random.seed(42)\n",
    "\n",
    "# data params\n",
    "window_len = 7\n",
    "test_size = 0.1\n",
    "zero_base = True"
   ]
  },
  {
   "cell_type": "code",
   "execution_count": 194,
   "metadata": {},
   "outputs": [
    {
     "ename": "ValueError",
     "evalue": "shapes (1776,26) and (200,) not aligned: 26 (dim 1) != 200 (dim 0)",
     "output_type": "error",
     "traceback": [
      "\u001b[0;31m---------------------------------------------------------------------------\u001b[0m",
      "\u001b[0;31mValueError\u001b[0m                                Traceback (most recent call last)",
      "\u001b[0;32m<ipython-input-194-babe779a836c>\u001b[0m in \u001b[0;36m<module>\u001b[0;34m\u001b[0m\n\u001b[0;32m----> 1\u001b[0;31m \u001b[0mpreds\u001b[0m \u001b[0;34m=\u001b[0m \u001b[0mmodel\u001b[0m\u001b[0;34m.\u001b[0m\u001b[0mpredict\u001b[0m\u001b[0;34m(\u001b[0m\u001b[0mtest\u001b[0m\u001b[0;34m)\u001b[0m\u001b[0;34m.\u001b[0m\u001b[0msqueeze\u001b[0m\u001b[0;34m(\u001b[0m\u001b[0;34m)\u001b[0m\u001b[0;34m\u001b[0m\u001b[0;34m\u001b[0m\u001b[0m\n\u001b[0m",
      "\u001b[0;32m~/test_jupyter/lib/python3.7/site-packages/statsmodels/tsa/ar_model.py\u001b[0m in \u001b[0;36mpredict\u001b[0;34m(self, params, start, end, dynamic)\u001b[0m\n\u001b[1;32m    225\u001b[0m \u001b[0;34m\u001b[0m\u001b[0m\n\u001b[1;32m    226\u001b[0m         \u001b[0;31m# just do the whole thing and truncate\u001b[0m\u001b[0;34m\u001b[0m\u001b[0;34m\u001b[0m\u001b[0;34m\u001b[0m\u001b[0m\n\u001b[0;32m--> 227\u001b[0;31m         \u001b[0mfittedvalues\u001b[0m \u001b[0;34m=\u001b[0m \u001b[0mdot\u001b[0m\u001b[0;34m(\u001b[0m\u001b[0mself\u001b[0m\u001b[0;34m.\u001b[0m\u001b[0mX\u001b[0m\u001b[0;34m,\u001b[0m \u001b[0mparams\u001b[0m\u001b[0;34m)\u001b[0m\u001b[0;34m\u001b[0m\u001b[0;34m\u001b[0m\u001b[0m\n\u001b[0m\u001b[1;32m    228\u001b[0m \u001b[0;34m\u001b[0m\u001b[0m\n\u001b[1;32m    229\u001b[0m         \u001b[0mpv_start\u001b[0m \u001b[0;34m=\u001b[0m \u001b[0mmax\u001b[0m\u001b[0;34m(\u001b[0m\u001b[0mk_ar\u001b[0m \u001b[0;34m-\u001b[0m \u001b[0mstart\u001b[0m\u001b[0;34m,\u001b[0m \u001b[0;36m0\u001b[0m\u001b[0;34m)\u001b[0m\u001b[0;34m\u001b[0m\u001b[0;34m\u001b[0m\u001b[0m\n",
      "\u001b[0;31mValueError\u001b[0m: shapes (1776,26) and (200,) not aligned: 26 (dim 1) != 200 (dim 0)"
     ]
    }
   ],
   "source": [
    "preds = model.predict(test).squeeze()"
   ]
  },
  {
   "cell_type": "code",
   "execution_count": 193,
   "metadata": {},
   "outputs": [
    {
     "ename": "NameError",
     "evalue": "name 'preds' is not defined",
     "output_type": "error",
     "traceback": [
      "\u001b[0;31m---------------------------------------------------------------------------\u001b[0m",
      "\u001b[0;31mNameError\u001b[0m                                 Traceback (most recent call last)",
      "\u001b[0;32m<ipython-input-193-7779601f2902>\u001b[0m in \u001b[0;36m<module>\u001b[0;34m\u001b[0m\n\u001b[0;32m----> 1\u001b[0;31m \u001b[0mpreds\u001b[0m \u001b[0;34m=\u001b[0m \u001b[0mtest\u001b[0m\u001b[0;34m[\u001b[0m\u001b[0;34m:\u001b[0m\u001b[0;34m-\u001b[0m\u001b[0mwindow_len\u001b[0m\u001b[0;34m]\u001b[0m \u001b[0;34m*\u001b[0m \u001b[0;34m(\u001b[0m\u001b[0mpreds\u001b[0m \u001b[0;34m+\u001b[0m \u001b[0;36m1\u001b[0m\u001b[0;34m)\u001b[0m\u001b[0;34m\u001b[0m\u001b[0;34m\u001b[0m\u001b[0m\n\u001b[0m\u001b[1;32m      2\u001b[0m \u001b[0mpreds\u001b[0m \u001b[0;34m=\u001b[0m \u001b[0mpd\u001b[0m\u001b[0;34m.\u001b[0m\u001b[0mSeries\u001b[0m\u001b[0;34m(\u001b[0m\u001b[0mindex\u001b[0m\u001b[0;34m=\u001b[0m\u001b[0mtargets\u001b[0m\u001b[0;34m.\u001b[0m\u001b[0mindex\u001b[0m\u001b[0;34m,\u001b[0m \u001b[0mdata\u001b[0m\u001b[0;34m=\u001b[0m\u001b[0mpreds\u001b[0m\u001b[0;34m)\u001b[0m\u001b[0;34m\u001b[0m\u001b[0;34m\u001b[0m\u001b[0m\n\u001b[1;32m      3\u001b[0m \u001b[0;34m\u001b[0m\u001b[0m\n\u001b[1;32m      4\u001b[0m \u001b[0mline_plot\u001b[0m\u001b[0;34m(\u001b[0m\u001b[0mtargets\u001b[0m\u001b[0;34m,\u001b[0m \u001b[0mpreds\u001b[0m\u001b[0;34m,\u001b[0m \u001b[0;34m'actual'\u001b[0m\u001b[0;34m,\u001b[0m \u001b[0;34m'prediction'\u001b[0m\u001b[0;34m,\u001b[0m \u001b[0mlw\u001b[0m\u001b[0;34m=\u001b[0m\u001b[0;36m3\u001b[0m\u001b[0;34m)\u001b[0m\u001b[0;34m\u001b[0m\u001b[0;34m\u001b[0m\u001b[0m\n",
      "\u001b[0;31mNameError\u001b[0m: name 'preds' is not defined"
     ]
    }
   ],
   "source": [
    "preds = test[:-window_len] * (preds + 1)\n",
    "preds = pd.Series(index=targets.index, data=preds)\n",
    "\n",
    "line_plot(targets, preds, 'actual', 'prediction', lw=3)"
   ]
  },
  {
   "cell_type": "code",
   "execution_count": null,
   "metadata": {},
   "outputs": [],
   "source": []
  }
 ],
 "metadata": {
  "kernelspec": {
   "display_name": "Python 3",
   "language": "python",
   "name": "python3"
  },
  "language_info": {
   "codemirror_mode": {
    "name": "ipython",
    "version": 3
   },
   "file_extension": ".py",
   "mimetype": "text/x-python",
   "name": "python",
   "nbconvert_exporter": "python",
   "pygments_lexer": "ipython3",
   "version": "3.7.2"
  }
 },
 "nbformat": 4,
 "nbformat_minor": 2
}
